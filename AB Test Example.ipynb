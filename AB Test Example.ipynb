{
 "cells": [
  {
   "cell_type": "code",
   "execution_count": 1,
   "metadata": {},
   "outputs": [],
   "source": [
    "# Adapted from https://github.com/rasmusab/bayesianprobabilitiesworkshop"
   ]
  },
  {
   "cell_type": "markdown",
   "metadata": {},
   "source": [
    "The marketing department has done a pilot study and tried two different marketing methods:\n",
    "\n",
    "A: Sending a mail with a colorful brochure that invites people to sign up for a one year salmon subscription.\n",
    "\n",
    "B: Sending a colorful brochure that invites people to sign up for a one year salmon subscription and includes a free sample.\n",
    "\n",
    "The marketing department sent out 75 mails of type A and 16 mails of type B. Six people that received a mail of type A signed up for one year of salmon, and ten people that received a mail of type B signed up.\n",
    "\n",
    "The marketing department now wants to know, which method should we use, A or B?"
   ]
  },
  {
   "cell_type": "code",
   "execution_count": 2,
   "metadata": {},
   "outputs": [],
   "source": [
    "import pandas as pd\n",
    "import numpy as np\n",
    "import matplotlib.pyplot as plt"
   ]
  },
  {
   "cell_type": "code",
   "execution_count": 3,
   "metadata": {},
   "outputs": [
    {
     "data": {
      "image/png": "[encoded data removed]",
      "text/plain": [
       "<Figure size 432x288 with 1 Axes>"
      ]
     },
     "metadata": {
      "needs_background": "light"
     },
     "output_type": "display_data"
    }
   ],
   "source": [
    "n = 10000\n",
    "\n",
    "# An expert claims that the sign-up rate has never been higher than 20% and is usually between 5-15%. \n",
    "# We can use a beta distribution as our new prior to reflect the expert's opinion\n",
    "prior = pd.Series(np.random.beta(3, 30, n))\n",
    "\n",
    "ax = prior.hist(grid=False)\n",
    "ax.set_title('Prior Distribution')\n",
    "plt.show()"
   ]
  },
  {
   "cell_type": "code",
   "execution_count": 4,
   "metadata": {},
   "outputs": [],
   "source": [
    "def generate_data(p):\n",
    "    return np.random.binomial(75, p)"
   ]
  },
  {
   "cell_type": "code",
   "execution_count": 5,
   "metadata": {},
   "outputs": [],
   "source": [
    "simulated_data = []\n",
    "for p in prior:\n",
    "    simulated_data.append(generate_data(p))\n",
    "\n",
    "# only keep the probabilities that produced the outcome we observed for each method\n",
    "a_observed = 6\n",
    "b_observed = 10\n",
    "\n",
    "a_posterior = prior[list(map(lambda x:x == a_observed, simulated_data))]\n",
    "b_posterior = prior[list(map(lambda x:x == b_observed, simulated_data))]"
   ]
  },
  {
   "cell_type": "code",
   "execution_count": 6,
   "metadata": {},
   "outputs": [
    {
     "data": {
      "image/png": "[encoded data removed]",
      "text/plain": [
       "<Figure size 432x288 with 1 Axes>"
      ]
     },
     "metadata": {
      "needs_background": "light"
     },
     "output_type": "display_data"
    }
   ],
   "source": [
    "ax = a_posterior.hist(grid=False)\n",
    "ax = b_posterior.hist(grid=False)\n",
    "ax.legend(['Method A', 'Method B'])\n",
    "ax.set_title('Posterior Distributions for Methods A and B')\n",
    "plt.show()"
   ]
  },
  {
   "cell_type": "code",
   "execution_count": 7,
   "metadata": {},
   "outputs": [
    {
     "name": "stdout",
     "output_type": "stream",
     "text": [
      "Method A: mean = 0.08, median = 0.08, IQR = 0.07 to 0.10\n",
      "Method B: mean = 0.12, median = 0.11, IQR = 0.10 to 0.14\n"
     ]
    }
   ],
   "source": [
    "# summarize both methods\n",
    "print('Method A: mean = %.2f, median = %.2f, IQR = %.2f to %.2f' % (a_posterior.mean(), a_posterior.median(),  a_posterior.quantile([.25]).values[0], a_posterior.quantile([.75]).values[0]))\n",
    "print('Method B: mean = %.2f, median = %.2f, IQR = %.2f to %.2f' % (b_posterior.mean(), b_posterior.median(),  b_posterior.quantile([.25]).values[0], b_posterior.quantile([.75]).values[0]))"
   ]
  },
  {
   "cell_type": "markdown",
   "metadata": {},
   "source": [
    "Method B has a higher sign-up rate, so it seems like we should recommend Method B.  However, we find out that the cost of sending a brochure is \\\\$0.25, the cost of sending a sample is \\\\$5.50 and if a person signs up, the company makes \\\\$50 on average\n",
    "Should we still recommend method B?"
   ]
  },
  {
   "cell_type": "code",
   "execution_count": 8,
   "metadata": {},
   "outputs": [],
   "source": [
    "def calculate_profit(signup_rates, cost):\n",
    "    profits = []\n",
    "    for rate in signup_rates:\n",
    "        profits.append(rate * 50 - cost)\n",
    "    return profits"
   ]
  },
  {
   "cell_type": "code",
   "execution_count": 9,
   "metadata": {},
   "outputs": [
    {
     "data": {
      "image/png": "[encoded data removed]",
      "text/plain": [
       "<Figure size 432x288 with 1 Axes>"
      ]
     },
     "metadata": {
      "needs_background": "light"
     },
     "output_type": "display_data"
    }
   ],
   "source": [
    "a_profits = pd.Series(calculate_profit(a_posterior, .25))\n",
    "b_profits = pd.Series(calculate_profit(b_posterior, 5.5))\n",
    "\n",
    "ax = a_profits.hist(grid=False)\n",
    "ax = b_profits.hist(grid=False)\n",
    "ax.legend(['Method A', 'Method B'])\n",
    "ax.set_title('Expected Profits Per Ad Sent for Methods A and B')\n",
    "plt.show()"
   ]
  },
  {
   "cell_type": "code",
   "execution_count": 10,
   "metadata": {},
   "outputs": [
    {
     "name": "stdout",
     "output_type": "stream",
     "text": [
      "Method A: mean = 3.96, median = 3.80, IQR = 3.03 to 4.80\n",
      "Method B: mean = 0.40, median = 0.20, IQR = -0.74 to 1.41\n"
     ]
    }
   ],
   "source": [
    "# summarize both methods\n",
    "print('Method A: mean = %.2f, median = %.2f, IQR = %.2f to %.2f' % (a_profits.mean(), a_profits.median(),  a_profits.quantile([.25]).values[0], a_profits.quantile([.75]).values[0]))\n",
    "print('Method B: mean = %.2f, median = %.2f, IQR = %.2f to %.2f' % (b_profits.mean(), b_profits.median(),  b_profits.quantile([.25]).values[0], b_profits.quantile([.75]).values[0]))"
   ]
  },
  {
   "cell_type": "markdown",
   "metadata": {},
   "source": [
    "**Conclusion:** Even though method A has a higher sign-up rate, the increase in sign-up rate isn't significant enough to justify the extra cost of sending a sample.  Method A is expected to bring in a profit of 3.79 per brochure sent while method B is expected to bring in .35 per sample sent.  With Method B, there is also a strong possibility that the company will lose money.  "
   ]
  },
  {
   "cell_type": "code",
   "execution_count": null,
   "metadata": {},
   "outputs": [],
   "source": []
  }
 ],
 "metadata": {
  "kernelspec": {
   "display_name": "Python 3",
   "language": "python",
   "name": "python3"
  },
  "language_info": {
   "codemirror_mode": {
    "name": "ipython",
    "version": 3
   },
   "file_extension": ".py",
   "mimetype": "text/x-python",
   "name": "python",
   "nbconvert_exporter": "python",
   "pygments_lexer": "ipython3",
   "version": "3.7.4"
  }
 },
 "nbformat": 4,
 "nbformat_minor": 2
}
