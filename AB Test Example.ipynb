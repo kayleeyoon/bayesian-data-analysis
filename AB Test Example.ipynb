{
 "cells": [
  {
   "cell_type": "code",
   "execution_count": 1,
   "metadata": {},
   "outputs": [],
   "source": [
    "# Adapted from https://github.com/rasmusab/bayesianprobabilitiesworkshop"
   ]
  },
  {
   "cell_type": "markdown",
   "metadata": {},
   "source": [
    "Swedish Fish Incorporated is the largest Swedish company delivering fish by mail order. They are now trying to get into the lucrative Danish market by selling one year Salmon subscriptions. The marketing department have done a pilot study and tried the following marketing method:\n",
    "\n",
    "A: Sending a mail with a colorful brochure that invites people to sign up for a one year salmon subscription.\n",
    "\n",
    "The marketing department sent out 16 mails of type A. Six people that received a mail signed up for one year of salmon and marketing now wants to know, how good is method A?\n",
    "\n",
    "Build a Bayesian model that answers the question: What would the rate of sign-up be if method A was used on a larger number of people?"
   ]
  },
  {
   "cell_type": "code",
   "execution_count": 2,
   "metadata": {},
   "outputs": [],
   "source": [
    "import pandas as pd\n",
    "import numpy as np"
   ]
  },
  {
   "cell_type": "code",
   "execution_count": 3,
   "metadata": {},
   "outputs": [
    {
     "data": {
      "text/plain": [
       "<matplotlib.axes._subplots.AxesSubplot at 0x1debea80e48>"
      ]
     },
     "execution_count": 3,
     "metadata": {},
     "output_type": "execute_result"
    }
   ],
   "source": [
    "n_draws = 10000\n",
    "\n",
    "# define the prior.  We have no prior information, so will use a uniform distribution\n",
    "prior = pd.Series(np.random.uniform(0, 1, n_draws))  \n",
    "prior.hist()"
   ]
  },
  {
   "cell_type": "code",
   "execution_count": 4,
   "metadata": {},
   "outputs": [
    {
     "data": {
      "text/plain": [
       "<matplotlib.axes._subplots.AxesSubplot at 0x1debea80ec8>"
      ]
     },
     "execution_count": 4,
     "metadata": {},
     "output_type": "execute_result"
    },
    {
     "data": {
      "image/png": "[encoded data removed]",
      "text/plain": [
       "<Figure size 432x288 with 1 Axes>"
      ]
     },
     "metadata": {
      "needs_background": "light"
     },
     "output_type": "display_data"
    }
   ],
   "source": [
    "def generative_model(p):\n",
    "    return(np.random.binomial(16,  p))\n",
    "\n",
    "# simulate data using the parameters from the prior and the generative model\n",
    "simulated_data = []\n",
    "for p in prior:\n",
    "    simulated_data.append(generative_model(p))\n",
    "         \n",
    "observed_data = 6\n",
    "# only keep data that is consistent with the observed data\n",
    "posterior = prior[list(map(lambda x: x == observed_data, simulated_data))]\n",
    "posterior.hist() "
   ]
  },
  {
   "cell_type": "code",
   "execution_count": 5,
   "metadata": {},
   "outputs": [
    {
     "name": "stdout",
     "output_type": "stream",
     "text": [
      " Posterior median: 0.374,  Posterior mean: 0.381, Posterior interval: 0.183-0.621\n"
     ]
    }
   ],
   "source": [
    "# summarize the posterior\n",
    "print(' Posterior median: %.3f,  Posterior mean: %.3f, Posterior interval: %.3f-%.3f' % (posterior.median(), posterior.mean(), posterior.quantile(.025), posterior.quantile(.975)))"
   ]
  },
  {
   "cell_type": "markdown",
   "metadata": {},
   "source": [
    "Marketing just told us that the rate of sign-up would be 20% if salmon subscribers were snared by a telemarketing campaign instead. Given the model and the data that we developed in the last question, what’s the probability that method A has a higher rate of sign-up than telemarketing?"
   ]
  },
  {
   "cell_type": "code",
   "execution_count": 6,
   "metadata": {},
   "outputs": [
    {
     "data": {
      "text/plain": [
       "0.9474671669793621"
      ]
     },
     "execution_count": 6,
     "metadata": {},
     "output_type": "execute_result"
    }
   ],
   "source": [
    "len(posterior[posterior > .2])/len(posterior)"
   ]
  },
  {
   "cell_type": "markdown",
   "metadata": {},
   "source": [
    "If method A was used on 100 people, what do you predict would be the number of sign-ups?"
   ]
  },
  {
   "cell_type": "code",
   "execution_count": 7,
   "metadata": {},
   "outputs": [
    {
     "name": "stdout",
     "output_type": "stream",
     "text": [
      "Median sign-up number: 38 95% \n",
      "Quantile interval: 15-63\n"
     ]
    },
    {
     "data": {
      "image/png": "[encoded data removed]",
      "text/plain": [
       "<Figure size 432x288 with 1 Axes>"
      ]
     },
     "metadata": {
      "needs_background": "light"
     },
     "output_type": "display_data"
    }
   ],
   "source": [
    "signups = []\n",
    "\n",
    "for p in posterior:\n",
    "    signups.append(np.random.binomial(100, p))\n",
    "    \n",
    "signups = pd.Series(signups)\n",
    "signups.hist()\n",
    "print('Median sign-up number: %d 95%% \\nQuantile interval: %d-%d' %(signups.median(), signups.quantile([.025]).values[0], signups.quantile([.975]).values[0]))\n"
   ]
  },
  {
   "cell_type": "code",
   "execution_count": null,
   "metadata": {},
   "outputs": [],
   "source": []
  }
 ],
 "metadata": {
  "kernelspec": {
   "display_name": "Python 3",
   "language": "python",
   "name": "python3"
  },
  "language_info": {
   "codemirror_mode": {
    "name": "ipython",
    "version": 3
   },
   "file_extension": ".py",
   "mimetype": "text/x-python",
   "name": "python",
   "nbconvert_exporter": "python",
   "pygments_lexer": "ipython3",
   "version": "3.7.4"
  }
 },
 "nbformat": 4,
 "nbformat_minor": 2
}
